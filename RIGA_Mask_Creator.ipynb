{
 "cells": [
  {
   "cell_type": "markdown",
   "metadata": {
    "id": "MkSriIr3hgPb"
   },
   "source": [
    "# Extracting Masks of RIGA Dataset images for Segmentation Trainings\n",
    "Some information is hidden (changed to [...]) for privacy reasons."
   ]
  },
  {
   "cell_type": "code",
   "execution_count": null,
   "metadata": {
    "id": "LtelkihBZ3CU"
   },
   "outputs": [],
   "source": [
    "from PIL import Image, ImageChops\n",
    "import numpy as np\n",
    "import os\n",
    "from tqdm import tqdm\n",
    "import matplotlib.pyplot as plt\n",
    "from skimage.morphology import remove_small_objects\n",
    "from skimage.segmentation import flood, flood_fill\n",
    "from math import sqrt\n",
    "import seaborn as sns"
   ]
  },
  {
   "cell_type": "code",
   "execution_count": null,
   "metadata": {
    "id": "UtCUndCgMnCU"
   },
   "outputs": [],
   "source": [
    "!sudo apt install unzip"
   ]
  },
  {
   "cell_type": "code",
   "execution_count": null,
   "metadata": {
    "id": "_v9IcPfuJfBy"
   },
   "outputs": [],
   "source": [
    "import sys\n",
    "if 'google.colab' in sys.modules:\n",
    "    from google.colab import auth\n",
    "    auth.authenticate_user()"
   ]
  },
  {
   "cell_type": "code",
   "execution_count": null,
   "metadata": {
    "id": "RVW-SdMnbmRh"
   },
   "outputs": [],
   "source": [
    "# !mkdir RIGA\n",
    "# !gsutil -m cp -r \"gs://[...]/cup-to-disc/datasets/RIGA/RIGA-dataset\" RIGA"
   ]
  },
  {
   "cell_type": "code",
   "execution_count": null,
   "metadata": {
    "id": "6ipNq3CYTzci"
   },
   "outputs": [],
   "source": [
    "!gsutil -m cp -r \"gs://[...]/cup-to-disc/datasets_with_masks/RIGA_with_mask\" \"./\""
   ]
  },
  {
   "cell_type": "markdown",
   "metadata": {
    "id": "T2e5mhyHfgK2"
   },
   "source": [
    "####Process Functions"
   ]
  },
  {
   "cell_type": "code",
   "execution_count": null,
   "metadata": {
    "id": "e7yM-EFypP-0"
   },
   "outputs": [],
   "source": [
    "\"\"\"\n",
    "Steps:\n",
    "0. Copy original numpy matrix to [circles]  \n",
    "1. Find outer circle's one pixel (must be at top)\n",
    "    1.1. Find first black pixel inside of outer circle (in [circles])\n",
    "    1.2. Flood Fill the area between outer and inner circles (fill [disc_minus_cup])\n",
    "2. Delete outer circle (in [circles])\n",
    "3. Find inner circle's one pixel (must be at top)\n",
    "    3.1 Do the same thing in 1.x steps [inside_cup]\n",
    "4. Sum [inside_cup] and [circles] (dont forget [circles] matrix doesn't have disc line anymore)\n",
    "    4.1 [cup] = [inside_cup] + [circles]\n",
    "5. Sum [inside_cup], [disc_minus_cup] and [annots]\n",
    "    5.1 [disc] = [inside_cup] + [disc_minus_cup] + [annots]\n",
    "\"\"\"\n",
    "\n",
    "\n",
    "#Find disc\n",
    "def find_circle_pixel(img_arr):\n",
    "    for y in range(img_arr.shape[0]):\n",
    "        for x in range(img_arr.shape[1]):\n",
    "            if (img_arr[y][x]): return y, x\n",
    "\n",
    "def find_circle_pixel_inside(img_arr, circle_pixel):\n",
    "    y, x = circle_pixel\n",
    "    yd = y; xd = x\n",
    "    while (img_arr[yd][xd] != 0): yd+=1\n",
    "    return yd, xd\n",
    "\n",
    "def fill_circle(arr, start):\n",
    "    y, x = start\n",
    "    position = [y, x]\n",
    "    \n",
    "    to_fill = []\n",
    "\n",
    "    going_right = True\n",
    "    direction_changed = False\n",
    "    done = False\n",
    "    while not done:\n",
    "        y, x = position\n",
    "        arr[y-quarter_frame:y+quarter_frame,x-quarter_frame:x+quarter_frame] = True\n",
    "        try:\n",
    "            test_arr[position[0],position[1]] = 255\n",
    "        except:\n",
    "            pass\n",
    "        if (going_right):\n",
    "            if not np.all(arr[y-half_frame:y+half_frame,x:x+side_frame]):       #right\n",
    "                position = (y, x+quarter_frame)\n",
    "                direction_changed = False\n",
    "            elif not np.all(arr[y:y+corner_frame, x:x+corner_frame]):           #botom_right\n",
    "                position = (y+quarter_frame, x+quarter_frame)\n",
    "                direction_changed = False\n",
    "                \"going_right = False ?\"\n",
    "            elif not np.all(arr[y:y+side_frame, x-half_frame:x+half_frame]):    #bottom\n",
    "                position = (y+quarter_frame, x)\n",
    "                direction_changed = False\n",
    "                \"going_right = False ?\"\n",
    "            else: going_right = False; \n",
    "\n",
    "            if (direction_changed and not going_right): done = True\n",
    "            if (not going_right): direction_changed = True\n",
    "            \n",
    "            \n",
    "        else:\n",
    "            if not np.all(arr[y-half_frame:y+half_frame,x-side_frame:x]):       #left\n",
    "                position = (y, x-quarter_frame)\n",
    "                direction_changed = False\n",
    "            elif not np.all(arr[y:y+corner_frame,x-corner_frame:x]):            #bottom_left\n",
    "                position = (y+quarter_frame, x-quarter_frame)\n",
    "                direction_changed = False\n",
    "                \"going_right = True ?\"\n",
    "            elif not np.all(arr[y:y+side_frame, x-half_frame:x+half_frame]):    #bottom\n",
    "                position = (y+quarter_frame, x)\n",
    "                direction_changed = False\n",
    "                \"going_right = True ?\"\n",
    "            else: going_right = True\n",
    "\n",
    "            if (direction_changed and going_right): done = True\n",
    "            if (going_right): direction_changed = True\n",
    "\n",
    "        \n",
    "\n",
    "def erase_circle(arr, start, frame_size = 16):\n",
    "    y, x = start\n",
    "    position = [y, x]\n",
    "    half_frame = frame_size//2+2\n",
    "    quarter_frame = half_frame//2\n",
    "    side_frame = frame_size\n",
    "    corner_frame = half_frame+quarter_frame\n",
    "    while True:\n",
    "        next = None\n",
    "        y, x = position\n",
    "        arr[y-half_frame-1:y+half_frame+1,x-half_frame-1:x+half_frame+1] = 0\n",
    "\n",
    "       \n",
    "        if np.any(arr[y-corner_frame:y,x-corner_frame:x]):                      #top_left\n",
    "            position = (y-quarter_frame, x-quarter_frame)\n",
    "        elif np.any(arr[y:y+corner_frame, x:x+corner_frame]):                   #botom_right\n",
    "            position = (y+quarter_frame, x+quarter_frame)\n",
    "        elif np.any(arr[y-corner_frame:y,x:x+corner_frame]):                    #top_right\n",
    "            position = (y-quarter_frame, x+quarter_frame)\n",
    "        elif np.any(arr[y:y+corner_frame,x-corner_frame:x]):                    #bottom_left\n",
    "            position = (y+quarter_frame, x-quarter_frame)\n",
    "        elif np.any(arr[y-half_frame:y+half_frame,x-side_frame:x]):             #left\n",
    "            position = (y, x-quarter_frame)\n",
    "        elif np.any(arr[y-half_frame:y+half_frame,x:x+side_frame]):             #right\n",
    "            position = (y, x+quarter_frame)\n",
    "        elif np.any(arr[y-side_frame:y,x-half_frame:x+half_frame]):             #top\n",
    "            position = (y-quarter_frame, x)\n",
    "        elif np.any(arr[y:y+side_frame, x-half_frame:x+half_frame]):            #bottom\n",
    "            position = (y+quarter_frame, x)\n",
    "        else: break\n",
    "        \n"
   ]
  },
  {
   "cell_type": "code",
   "execution_count": null,
   "metadata": {
    "id": "mm9X06j0eGDC"
   },
   "outputs": [],
   "source": [
    "files_with_errors = []"
   ]
  },
  {
   "cell_type": "code",
   "execution_count": null,
   "metadata": {
    "id": "WD33LPjYf0iK"
   },
   "outputs": [],
   "source": [
    "!mkdir RIGA_with_mask"
   ]
  },
  {
   "cell_type": "markdown",
   "metadata": {
    "id": "hijfXAovMNe_"
   },
   "source": [
    "###1. RIGA \n",
    "\n",
    "---\n",
    "\n"
   ]
  },
  {
   "cell_type": "markdown",
   "metadata": {
    "id": "XMp7UcbkMS0I"
   },
   "source": [
    "#### BinRushed"
   ]
  },
  {
   "cell_type": "code",
   "execution_count": null,
   "metadata": {
    "id": "jSpi5YF6MNAO"
   },
   "outputs": [],
   "source": [
    "%%capture\n",
    "!unzip RIGA/RIGA-dataset/BinRushedcorrected.zip -d BinRushed"
   ]
  },
  {
   "cell_type": "code",
   "execution_count": null,
   "metadata": {
    "id": "igH3djYOOtUe"
   },
   "outputs": [],
   "source": [
    "def get_prime_and_mask_alternative(im_prime, im_annoted, threshold=100):\n",
    "    diff_np = np.array(ImageChops.difference(im_prime, im_annoted))\n",
    "    diff_np[diff_np > 250] = 0\n",
    "    diff_np = np.sum(diff_np, axis=2)\n",
    "    annots = remove_small_objects(diff_np>threshold).astype('uint8')*255\n",
    "\n",
    "\n",
    "    outer_circle_pixel_start = find_circle_pixel(annots)\n",
    "\n",
    "    inner_circle = annots.copy()\n",
    "\n",
    "    erase_circle(inner_circle, outer_circle_pixel_start)\n",
    "\n",
    "    inner_circle_pixel_start = find_circle_pixel(inner_circle)\n",
    "\n",
    "    outer_circle = annots.copy()\n",
    "    erase_circle(outer_circle, inner_circle_pixel_start)\n",
    "\n",
    "    outer_circle_pixel_inside_start = find_circle_pixel_inside(outer_circle, outer_circle_pixel_start)\n",
    "    inner_circle_pixel_inside_start = find_circle_pixel_inside(inner_circle, inner_circle_pixel_start)\n",
    "\n",
    "    disc = flood_fill(outer_circle, outer_circle_pixel_inside_start, 255)\n",
    "    cup = flood_fill(inner_circle, inner_circle_pixel_inside_start, 255)\n",
    "\n",
    "    return disc, cup\n",
    "\n",
    "def get_prime_and_mask(im_prime, im_annoted, threshold=100):\n",
    "    diff_np = np.array(ImageChops.difference(im_prime, im_annoted))\n",
    "    diff_np[diff_np > 250] = 0\n",
    "    diff_np = np.sum(diff_np, axis=2)\n",
    "    annots = remove_small_objects(diff_np>threshold).astype('uint8')*255\n",
    "\n",
    "    outer_circle_pixel_start = find_circle_pixel(annots)\n",
    "    inner_circle = flood_fill(annots, outer_circle_pixel_start, 0)\n",
    "\n",
    "    inner_circle_pixel_start = find_circle_pixel(inner_circle)\n",
    "    outer_circle = flood_fill(annots, inner_circle_pixel_start, 0)\n",
    "\n",
    "    outer_circle_pixel_inside_start = find_circle_pixel_inside(outer_circle, outer_circle_pixel_start)\n",
    "    inner_circle_pixel_inside_start = find_circle_pixel_inside(inner_circle, inner_circle_pixel_start)\n",
    "\n",
    "    disc = flood_fill(outer_circle, outer_circle_pixel_inside_start, 255)\n",
    "    cup = flood_fill(inner_circle, inner_circle_pixel_inside_start, 255)\n",
    "    \n",
    "    return disc, cup"
   ]
  },
  {
   "cell_type": "code",
   "execution_count": null,
   "metadata": {
    "id": "QP1dGmBOj0s6"
   },
   "outputs": [],
   "source": [
    "thresholds = [120, 100, 80, 70, 60, 50, 40, 30, 20, 10, 5]\n"
   ]
  },
  {
   "cell_type": "code",
   "execution_count": null,
   "metadata": {
    "id": "TMbW60KHf5JS"
   },
   "outputs": [],
   "source": [
    "binrushed_dir_names = ['BinRushed1-Corrected', 'BinRushed2', 'BinRushed3', 'BinRushed4']\n",
    "for binrushed_dir in binrushed_dir_names: \n",
    "    to_create = f\"RIGA_with_mask/{binrushed_dir}\"\n",
    "    !mkdir $to_create"
   ]
  },
  {
   "cell_type": "code",
   "execution_count": null,
   "metadata": {
    "id": "2sYX9tsjNQ_A"
   },
   "outputs": [],
   "source": [
    "for binrushed_dir in tqdm(binrushed_dir_names):\n",
    "    path = f\"BinRushed/BinRushed/{binrushed_dir}\"\n",
    "    br_images = [_ for _ in os.listdir(f\"BinRushed/BinRushed/{binrushed_dir}\")]\n",
    "    annot_images_filenames = [_ for _ in br_images if _.find(\"prime\") == -1]\n",
    "    n = max([int(_.split(\"prime\")[0].replace(\"image\", \"\")) for _ in br_images if _.find(\"prime\") != -1])+1\n",
    "    for i in tqdm(range(1, n)):\n",
    "        fp = f\"RIGA_with_mask/{binrushed_dir}/image{i}prime.bmp\"\n",
    "\n",
    "        im_prime_filename = f\"image{i}prime.jpg\"\n",
    "        im_prime_path = f\"{path}/{im_prime_filename}\"\n",
    "        im_prime = None\n",
    "        \n",
    "        # im_prime.save(fp, quality=100)\n",
    "        \n",
    "        for j in range(1, 7):\n",
    "            if f\"RIGA_with_mask/{binrushed_dir}/image{i}-{j}\" not in exceptional_ratios: continue\n",
    "\n",
    "            im_annot_path = f\"image{i}-{j}\"\n",
    "            \n",
    "            if (im_prime == None): im_prime = Image.open(im_prime_path)\n",
    "\n",
    "            try:\n",
    "                im_annot = Image.open(f\"{path}/{im_annot_path}.jpg\")\n",
    "            except FileNotFoundError:\n",
    "                im_annot = Image.open(f\"{path}/{im_annot_path}.tif\")\n",
    "            \n",
    "            try:\n",
    "                ratio_valid = False\n",
    "                for threshold in thresholds:\n",
    "                    disc, cup = get_prime_and_mask(im_prime, im_annot, threshold=threshold)\n",
    "                    total_pixels = cup.shape[0]*cup.shape[1]\n",
    "                    cup_pixels = np.sum(cup == 255)\n",
    "                    disc_pixels = np.sum(disc == 255)\n",
    "\n",
    "                    ratio = sqrt(cup_pixels/disc_pixels)\n",
    "                    ratio_valid = ((ratio > 0.1) and (ratio < 0.9))\n",
    "\n",
    "\n",
    "                    ratio_valid = ratio_valid and (cup_pixels/total_pixels <= 0.8) \n",
    "                    ratio_valid = ratio_valid and (disc_pixels/total_pixels <= 0.8)\n",
    "                    \n",
    "                    if ratio_valid: break\n",
    "\n",
    "                if (not ratio_valid):\n",
    "                    for threshold in thresholds:\n",
    "                        disc, cup = get_prime_and_mask_alternative(im_prime, im_annot, threshold=threshold)\n",
    "                        \n",
    "                        total_pixels = cup.shape[0]*cup.shape[1]\n",
    "                        cup_pixels = np.sum(cup == 255)\n",
    "                        disc_pixels = np.sum(disc == 255)\n",
    "\n",
    "                        ratio = sqrt(cup_pixels/disc_pixels)\n",
    "                        ratio_valid = ((ratio > 0.1) and (ratio < 0.9))\n",
    "\n",
    "\n",
    "                        ratio_valid = ratio_valid and (cup_pixels/total_pixels <= 0.8) \n",
    "                        ratio_valid = ratio_valid and (disc_pixels/total_pixels <= 0.8)\n",
    "\n",
    "                        if ratio_valid: break\n",
    "\n",
    "                if (not ratio_valid):\n",
    "                    print(f\"Error while parsing (ratio={ratio}): {path}/{im_annot_path}\")\n",
    "                    files_with_errors.append(f\"Ratio error (ratio={ratio}): {path}/{im_annot_path}\")\n",
    "                    continue #to next annotation\n",
    "            \n",
    "            except TypeError:\n",
    "                print(f\"Line collision: {path}/{im_annot_path}\")\n",
    "                files_with_errors.append(f\"Line collision: {path}/{im_annot_path}\")\n",
    "                continue #to next annotation\n",
    "\n",
    "            im_disc = Image.fromarray(disc)\n",
    "            im_cup = Image.fromarray(cup)\n",
    "\n",
    "            fp = f\"RIGA_with_mask/{binrushed_dir}/image{i}-{j}_disc.bmp\"\n",
    "            im_disc.save(fp, quality=100)\n",
    "\n",
    "            fp = f\"RIGA_with_mask/{binrushed_dir}/image{i}-{j}_cup.bmp\"\n",
    "            im_cup.save(fp, quality=100)"
   ]
  },
  {
   "cell_type": "code",
   "execution_count": null,
   "metadata": {
    "id": "2hVDLyfrK6Zv"
   },
   "outputs": [],
   "source": [
    "\"\"\"Send All BinRushed to storage\"\"\"\n",
    "for binrushed_dir in binrushed_dir_names:\n",
    "    sub_dir = f\"RIGA_with_mask/{binrushed_dir}\"\n",
    "    !gsutil -m cp -r $sub_dir \"gs://[...]/cup-to-disc/datasets_with_masks/RIGA_with_mask\""
   ]
  },
  {
   "cell_type": "code",
   "execution_count": null,
   "metadata": {
    "id": "pK-RVC_z3vsv"
   },
   "outputs": [],
   "source": [
    "!rm -r BinRushed\n",
    "# !rm RIGA/RIGA-dataset/BinRushed.zip"
   ]
  },
  {
   "cell_type": "markdown",
   "metadata": {
    "id": "MUuu5AXolxAn"
   },
   "source": [
    "####Messidor\n"
   ]
  },
  {
   "cell_type": "code",
   "execution_count": null,
   "metadata": {
    "id": "mdEpw6t_ly6q"
   },
   "outputs": [],
   "source": [
    "%%capture\n",
    "!unzip RIGA/RIGA-dataset/MESSIDOR.zip -d Messidor"
   ]
  },
  {
   "cell_type": "code",
   "execution_count": null,
   "metadata": {
    "id": "3QC3U20ksHdv"
   },
   "outputs": [],
   "source": [
    "# binrushed_dir_names = ['MESSIDOR']\n",
    "# for binrushed_dir in binrushed_dir_names:\n",
    "#     to_create = f\"RIGA_with_mask/{binrushed_dir}\"\n",
    "#     !mkdir $to_create"
   ]
  },
  {
   "cell_type": "code",
   "execution_count": null,
   "metadata": {
    "id": "Cu7rwvHQtGms"
   },
   "outputs": [],
   "source": [
    "messidor_dir = \"MESSIDOR\"\n",
    "path = f\"Messidor/{messidor_dir}\"\n",
    "br_images = [_ for _ in os.listdir(path)]\n",
    "annot_images_filenames = [_ for _ in br_images if _.find(\"prime\") == -1]\n",
    "n = max([int(_.split(\"prime\")[0].replace(\"image\", \"\")) for _ in br_images if _.find(\"prime\") != -1])+1\n",
    "print(\"total images:\", n)\n",
    "for i in tqdm(range(1, n)):\n",
    "    fp = f\"RIGA_with_mask/{messidor_dir}/image{i}prime.bmp\"\n",
    "\n",
    "    im_prime_filename = f\"image{i}prime.tif\"\n",
    "    im_prime_path = f\"{path}/{im_prime_filename}\"\n",
    "    im_prime = None\n",
    "    \n",
    "    # im_prime.save(fp, quality=100)\n",
    "\n",
    "    # continue\n",
    "    for j in range(1, 7):\n",
    "        im_annot_path = f\"image{i}-{j}\"\n",
    "        if f\"RIGA_with_mask/{messidor_dir}/image{i}-{j}\" not in exceptional_ratios: continue\n",
    "        if im_prime == None: im_prime = Image.open(im_prime_path)\n",
    "\n",
    "        try:\n",
    "            im_annot = Image.open(f\"{path}/{im_annot_path}.jpg\")\n",
    "        except FileNotFoundError:\n",
    "            im_annot = Image.open(f\"{path}/{im_annot_path}.tif\")\n",
    "        \n",
    "        try:\n",
    "            ratio_valid = False\n",
    "            for threshold in thresholds:\n",
    "                disc, cup = get_prime_and_mask_alternative(im_prime, im_annot, threshold=threshold)\n",
    "                total_pixels = cup.shape[0]*cup.shape[1]\n",
    "                cup_pixels = np.sum(cup == 255)\n",
    "                disc_pixels = np.sum(disc == 255)\n",
    "\n",
    "                ratio = sqrt(cup_pixels/disc_pixels)\n",
    "                ratio_valid = ((ratio > 0.1) and (ratio < 0.9))\n",
    "\n",
    "\n",
    "                ratio_valid = ratio_valid and (cup_pixels/total_pixels <= 0.8) \n",
    "                ratio_valid = ratio_valid and (disc_pixels/total_pixels <= 0.8)\n",
    "                if ratio_valid: break\n",
    "\n",
    "            if (not ratio_valid):\n",
    "                for threshold in thresholds:\n",
    "                    disc, cup = get_prime_and_mask(im_prime, im_annot, threshold=threshold)\n",
    "                    total_pixels = cup.shape[0]*cup.shape[1]\n",
    "                    cup_pixels = np.sum(cup == 255)\n",
    "                    disc_pixels = np.sum(disc == 255)\n",
    "\n",
    "                    ratio = sqrt(cup_pixels/disc_pixels)\n",
    "                    ratio_valid = ((ratio > 0.1) and (ratio < 0.9))\n",
    "\n",
    "                    ratio_valid = ratio_valid and (cup_pixels/total_pixels <= 0.8) \n",
    "                    ratio_valid = ratio_valid and (disc_pixels/total_pixels <= 0.8)\n",
    "\n",
    "                    if ratio_valid: break\n",
    "\n",
    "            if (not ratio_valid):\n",
    "                print(f\"Error while parsing (ratio={ratio}): {path}/{im_annot_path}\")\n",
    "                files_with_errors.append(f\"Ratio error (ratio={ratio}): {path}/{im_annot_path}\")\n",
    "                continue #to next annotation\n",
    "        \n",
    "        except TypeError:\n",
    "            print(f\"Line collision: {path}/{im_annot_path}\")\n",
    "            files_with_errors.append(f\"Line collision: {path}/{im_annot_path}\")\n",
    "            continue #to next annotation\n",
    "\n",
    "        \n",
    "\n",
    "        im_disc = Image.fromarray(disc)\n",
    "        im_cup = Image.fromarray(cup)\n",
    "\n",
    "        fp = f\"RIGA_with_mask/{messidor_dir}/image{i}-{j}_disc.bmp\"\n",
    "        im_disc.save(fp, quality=100)\n",
    "\n",
    "        fp = f\"RIGA_with_mask/{messidor_dir}/image{i}-{j}_cup.bmp\"\n",
    "        im_cup.save(fp, quality=100)"
   ]
  },
  {
   "cell_type": "code",
   "execution_count": null,
   "metadata": {
    "id": "nc1bVbml-Qn4"
   },
   "outputs": [],
   "source": [
    "\"\"\"Send Messidor to storage\"\"\"\n",
    "!gsutil -m cp -r RIGA_with_mask/MESSIDOR gs://[...]/cup-to-disc/datasets_with_masks/RIGA_with_mask"
   ]
  },
  {
   "cell_type": "code",
   "execution_count": null,
   "metadata": {
    "id": "G6Of1MM_33XK"
   },
   "outputs": [],
   "source": [
    "!rm -r Messidor\n",
    "!rm RIGA/RIGA-dataset/MESSIDOR.zip"
   ]
  },
  {
   "cell_type": "markdown",
   "metadata": {
    "id": "7ZNsAtcMucli"
   },
   "source": [
    "####Magrabia"
   ]
  },
  {
   "cell_type": "code",
   "execution_count": null,
   "metadata": {
    "id": "HOaCmrJXuhg9"
   },
   "outputs": [],
   "source": [
    "%%capture\n",
    "!unzip RIGA/RIGA-dataset/Magrabia.zip -d Magrabia"
   ]
  },
  {
   "cell_type": "code",
   "execution_count": null,
   "metadata": {
    "id": "Ld3IymNzuoAC"
   },
   "outputs": [],
   "source": [
    "magrabia_dir_names = ['MagrabiaMale', 'MagrabiaFemale']\n",
    "for magrabia_dir in magrabia_dir_names:\n",
    "    to_create = f\"RIGA_with_mask/{magrabia_dir}\"\n",
    "    !mkdir $to_create"
   ]
  },
  {
   "cell_type": "code",
   "execution_count": null,
   "metadata": {
    "id": "MUoH8K-zuwL4"
   },
   "outputs": [],
   "source": [
    "for magrabia_dir in  magrabia_dir_names:\n",
    "    path = f\"Magrabia/Magrabia/{magrabia_dir}\"\n",
    "    br_images = [_ for _ in os.listdir(path)]\n",
    "    annot_images_filenames = [_ for _ in br_images if _.find(\"prime\") == -1]\n",
    "    n = max([int(_.split(\"prime\")[0].replace(\"image\", \"\")) for _ in br_images if _.find(\"prime\") != -1])+1\n",
    "    print(f\"total images for {magrabia_dir}:\", n)\n",
    "    for i in tqdm(range(1, n)):\n",
    "        fp = f\"RIGA_with_mask/{magrabia_dir}/image{i}prime.bmp\"\n",
    "\n",
    "        \n",
    "        im_prime_filename = f\"image{i}prime.tif\"\n",
    "        im_prime_path = f\"{path}/{im_prime_filename}\"\n",
    "        im_prime = None\n",
    "        # im_prime.save(fp, quality=100)\n",
    "        \n",
    "        for j in range(1, 7):\n",
    "\n",
    "            if f\"RIGA_with_mask/{magrabia_dir}/image{i}-{j}\" not in exceptional_ratios: continue\n",
    "            \n",
    "            im_annot_path = f\"image{i}-{j}\"\n",
    "            \n",
    "            if (im_prime == None): im_prime = Image.open(im_prime_path)\n",
    "\n",
    "            try:\n",
    "                im_annot = Image.open(f\"{path}/Image{i}-{j}.tif\")\n",
    "            except FileNotFoundError:\n",
    "                im_annot = Image.open(f\"{path}/image{i}-{j}.tif\")\n",
    "            \n",
    "            try:\n",
    "                ratio_valid = False\n",
    "                for threshold in thresholds:\n",
    "                    disc, cup = get_prime_and_mask(im_prime, im_annot, threshold=threshold)\n",
    "                    total_pixels = cup.shape[0]*cup.shape[1]\n",
    "                    cup_pixels = np.sum(cup == 255)\n",
    "                    disc_pixels = np.sum(disc == 255)\n",
    "\n",
    "                    ratio = sqrt(cup_pixels/disc_pixels)\n",
    "                    ratio_valid = ((ratio > 0.1) and (ratio < 0.9))\n",
    "\n",
    "                    ratio_valid = ratio_valid and (cup_pixels/total_pixels <= 0.8) \n",
    "                    ratio_valid = ratio_valid and (disc_pixels/total_pixels <= 0.8)\n",
    "\n",
    "                    if ratio_valid: break\n",
    "\n",
    "                if (not ratio_valid):\n",
    "                    for threshold in thresholds:\n",
    "                        disc, cup = get_prime_and_mask_alternative(im_prime, im_annot, threshold=threshold)\n",
    "                        \n",
    "                        total_pixels = cup.shape[0]*cup.shape[1]\n",
    "                        cup_pixels = np.sum(cup == 255)\n",
    "                        disc_pixels = np.sum(disc == 255)\n",
    "\n",
    "                        ratio = sqrt(cup_pixels/disc_pixels)\n",
    "                        ratio_valid = ((ratio > 0.1) and (ratio < 0.9))\n",
    "\n",
    "\n",
    "                        ratio_valid = ratio_valid and (cup_pixels/total_pixels <= 0.8) \n",
    "                        ratio_valid = ratio_valid and (disc_pixels/total_pixels <= 0.8)\n",
    "\n",
    "                        if ratio_valid: break\n",
    "\n",
    "                if (not ratio_valid):\n",
    "                    print(f\"Error while parsing (ratio={ratio}): {path}/{im_annot_path}\")\n",
    "                    files_with_errors.append(f\"Ratio error (ratio={ratio}): {path}/{im_annot_path}\")\n",
    "                    continue #to next annotation\n",
    "        \n",
    "            except TypeError:\n",
    "                print(f\"Line collision: {path}/{im_annot_path}\")\n",
    "                files_with_errors.append(f\"Line collision: {path}/{im_annot_path}\")\n",
    "                continue #to next annotation\n",
    "\n",
    "            im_disc = Image.fromarray(disc)\n",
    "            im_cup = Image.fromarray(cup)\n",
    "\n",
    "            fp = f\"RIGA_with_mask/{magrabia_dir}/image{i}-{j}_disc.bmp\"\n",
    "            im_disc.save(fp, quality=100)\n",
    "\n",
    "            fp = f\"RIGA_with_mask/{magrabia_dir}/image{i}-{j}_cup.bmp\"\n",
    "            im_cup.save(fp, quality=100)"
   ]
  },
  {
   "cell_type": "code",
   "execution_count": null,
   "metadata": {
    "id": "J0HI0--KSkRI"
   },
   "outputs": [],
   "source": [
    "\"\"\"Send All BinRushed to storage\"\"\"\n",
    "for binrushed_dir in binrushed_dir_names:\n",
    "    sub_dir = f\"BinRushed/BinRushed/{binrushed_dir}\"\n",
    "    !gsutil -m cp -r $sub_dir \"gs://[...]/cup-to-disc/datasets_with_masks/RIGA_with_mask\""
   ]
  },
  {
   "cell_type": "markdown",
   "metadata": {
    "id": "xje2qdFds7bQ"
   },
   "source": [
    "####Send to Storage"
   ]
  },
  {
   "cell_type": "code",
   "execution_count": null,
   "metadata": {
    "id": "Z3IJ1Q5_TZD5"
   },
   "outputs": [],
   "source": [
    "# \"DELETE MASKS\"\n",
    "# !gsutil -m rm -r gs://[...]/cup-to-disc/datasets_with_masks/RIGA_with_mask\n"
   ]
  },
  {
   "cell_type": "code",
   "execution_count": null,
   "metadata": {
    "id": "KcXHERtS8lhy"
   },
   "outputs": [],
   "source": [
    "\"\"\"Send All Parseds to storage\"\"\"\n",
    "!gsutil -m cp -r RIGA_with_mask gs://[...]/cup-to-disc/datasets_with_masks"
   ]
  },
  {
   "cell_type": "code",
   "execution_count": null,
   "metadata": {
    "id": "De7iq7V4CZ7g"
   },
   "outputs": [],
   "source": [
    "# !rm -r Magrabia"
   ]
  },
  {
   "cell_type": "markdown",
   "metadata": {
    "id": "T-7IiQc-GaL-"
   },
   "source": [
    "###TEST"
   ]
  },
  {
   "cell_type": "code",
   "execution_count": null,
   "metadata": {
    "id": "8b_5OpDOIMFc"
   },
   "outputs": [],
   "source": [
    "ratios = []\n",
    "exceptional_ratios = {}"
   ]
  },
  {
   "cell_type": "code",
   "execution_count": null,
   "metadata": {
    "id": "NgAPboB6Gbke"
   },
   "outputs": [],
   "source": [
    "for group_dir in tqdm(os.listdir(\"RIGA_with_mask\")):\n",
    "    # if (group_dir.find(\"BinRushed\") == -1): continue\n",
    "    prime_image_names = [_ for _ in os.listdir(f\"RIGA_with_mask/{group_dir}\") if _.find(\"prime\") != -1]\n",
    "    path = f\"RIGA_with_mask/{group_dir}\"\n",
    "    for prime_image_name in tqdm(prime_image_names):\n",
    "        image_n = prime_image_name.split(\"prime\")[0].replace(\"image\", \"\")\n",
    "        for i in range(1, 7):\n",
    "            mask_path = f\"{path}/image{image_n}-{i}\"\n",
    "            try:\n",
    "                im_cup = Image.open(f\"{mask_path}_cup.bmp\")\n",
    "                im_disc = Image.open(f\"{mask_path}_disc.bmp\")\n",
    "                \n",
    "                cup = np.array(im_cup)\n",
    "                disc = np.array(im_disc)\n",
    "\n",
    "                total_pixels = cup.shape[0]*cup.shape[1]\n",
    "                cup_pixels = np.sum(cup == 255)\n",
    "                disc_pixels = np.sum(disc == 255)\n",
    "\n",
    "            except FileNotFoundError:\n",
    "                exceptional_ratios[mask_path] = \"NotFound\"\n",
    "            ratio = sqrt(cup_pixels/disc_pixels)\n",
    "            if (ratio < 0.1 or ratio > 0.9):\n",
    "                exceptional_ratios[mask_path] = ratio\n",
    "            elif (cup_pixels/total_pixels > 0.8) or (disc_pixels/total_pixels > 0.8):\n",
    "                exceptional_ratios[mask_path] = \"Overflowed\"\n",
    "            ratios.append(ratio)\n",
    "                "
   ]
  },
  {
   "cell_type": "code",
   "execution_count": null,
   "metadata": {
    "id": "TjhZNa9Xrjt7"
   },
   "outputs": [],
   "source": [
    "plt.figure(figsize=(15,10))\n",
    "sns.distplot(ratios, hist=False, rug=True);"
   ]
  },
  {
   "cell_type": "code",
   "execution_count": null,
   "metadata": {
    "id": "1XjoA2-9Uecx"
   },
   "outputs": [],
   "source": [
    "exceptional_ratios"
   ]
  }
 ],
 "metadata": {
  "colab": {
   "collapsed_sections": [],
   "name": "RIGA Mask Creator.ipynb",
   "provenance": [],
   "toc_visible": true
  },
  "kernelspec": {
   "display_name": "Python 3 (ipykernel)",
   "language": "python",
   "name": "python3"
  },
  "language_info": {
   "codemirror_mode": {
    "name": "ipython",
    "version": 3
   },
   "file_extension": ".py",
   "mimetype": "text/x-python",
   "name": "python",
   "nbconvert_exporter": "python",
   "pygments_lexer": "ipython3",
   "version": "3.10.0"
  }
 },
 "nbformat": 4,
 "nbformat_minor": 1
}
